{
 "cells": [
  {
   "cell_type": "markdown",
   "metadata": {},
   "source": [
    "# Finding Similar Items: Textually Similar Documents\n",
    "### Authors: Eva Engel, Tori Leatherman\n",
    "### November 14, 2022"
   ]
  },
  {
   "cell_type": "markdown",
   "metadata": {},
   "source": [
    "### Import libraries and class functions"
   ]
  },
  {
   "cell_type": "code",
   "execution_count": 6,
   "metadata": {},
   "outputs": [],
   "source": [
    "import pandas as pd\n",
    "import numpy as np\n",
    "import seaborn as sns\n",
    "import matplotlib.pyplot as plt\n",
    "import os\n",
    "import time\n",
    "\n",
    "import sys\n",
    "sys.path.insert(0,\"..\")\n",
    "from classes import shingling, compare_sets, min_hashing, compare_signatures, lsh\n",
    "from preprocessor import Preprocessor\n",
    "from dataset_reader import read_dataset"
   ]
  },
  {
   "cell_type": "markdown",
   "metadata": {},
   "source": [
    "### Initialize parameters and functions"
   ]
  },
  {
   "cell_type": "code",
   "execution_count": 37,
   "metadata": {},
   "outputs": [],
   "source": [
    "k_shingles = 10\n",
    "n_signature = 500\n",
    "n_documents = 100\n",
    "sim_threshold = 0.8\n",
    "n_bands = 100\n",
    "\n",
    "preprocessor = Preprocessor()\n",
    "Shingling = shingling(k_shingles)\n",
    "Min_hashing = min_hashing(n_signature)\n",
    "LSH = lsh(n_bands, sim_threshold)"
   ]
  },
  {
   "cell_type": "markdown",
   "metadata": {},
   "source": [
    "### Read and preprocess data"
   ]
  },
  {
   "cell_type": "code",
   "execution_count": 38,
   "metadata": {},
   "outputs": [
    {
     "name": "stdout",
     "output_type": "stream",
     "text": [
      "['news_0000001.json', 'news_0000002.json', 'news_0000003.json', 'news_0000004.json', 'news_0000005.json', 'news_0000006.json', 'news_0000007.json', 'news_0000008.json', 'news_0000009.json', 'news_0000010.json', 'news_0000011.json', 'news_0000012.json', 'news_0000013.json', 'news_0000014.json', 'news_0000015.json', 'news_0000016.json', 'news_0000017.json', 'news_0000018.json', 'news_0000019.json', 'news_0000020.json', 'news_0000021.json', 'news_0000022.json', 'news_0000023.json', 'news_0000024.json', 'news_0000025.json', 'news_0000026.json', 'news_0000027.json', 'news_0000028.json', 'news_0000029.json', 'news_0000030.json', 'news_0000031.json', 'news_0000032.json', 'news_0000033.json', 'news_0000034.json', 'news_0000035.json', 'news_0000036.json', 'news_0000037.json', 'news_0000038.json', 'news_0000039.json', 'news_0000040.json', 'news_0000041.json', 'news_0000042.json', 'news_0000043.json', 'news_0000044.json', 'news_0000045.json', 'news_0000046.json', 'news_0000047.json', 'news_0000048.json', 'news_0000049.json', 'news_0000050.json', 'news_0000051.json', 'news_0000052.json', 'news_0000053.json', 'news_0000054.json', 'news_0000055.json', 'news_0000056.json', 'news_0000057.json', 'news_0000058.json', 'news_0000059.json', 'news_0000060.json', 'news_0000061.json', 'news_0000062.json', 'news_0000063.json', 'news_0000064.json', 'news_0000065.json', 'news_0000066.json', 'news_0000067.json', 'news_0000068.json', 'news_0000069.json', 'news_0000070.json', 'news_0000071.json', 'news_0000072.json', 'news_0000073.json', 'news_0000074.json', 'news_0000075.json', 'news_0000076.json', 'news_0000077.json', 'news_0000078.json', 'news_0000079.json', 'news_0000080.json', 'news_0000081.json', 'news_0000082.json', 'news_0000083.json', 'news_0000084.json', 'news_0000085.json', 'news_0000086.json', 'news_0000087.json', 'news_0000088.json', 'news_0000089.json', 'news_0000090.json', 'news_0000091.json', 'news_0000092.json', 'news_0000093.json', 'news_0000094.json', 'news_0000095.json', 'news_0000096.json', 'news_0000097.json', 'news_0000098.json', 'news_0000099.json', 'news_0000100.json']\n"
     ]
    }
   ],
   "source": [
    "docs = read_dataset('tech_articles.zip', n_documents)\n",
    "preprocessed_docs = preprocessor.preprocess_documents(docs)\n"
   ]
  },
  {
   "cell_type": "markdown",
   "metadata": {},
   "source": [
    "### Use shingling, min hashing, and LSH to find similar documents"
   ]
  },
  {
   "cell_type": "code",
   "execution_count": 42,
   "metadata": {},
   "outputs": [],
   "source": [
    "character_matrix = Shingling.create_char_matrix(preprocessed_docs)\n",
    "signature = Min_hashing.compute_signature_hash(character_matrix)\n",
    "similar_documents = LSH.find_similar(signature)"
   ]
  },
  {
   "cell_type": "code",
   "execution_count": 43,
   "metadata": {},
   "outputs": [
    {
     "name": "stdout",
     "output_type": "stream",
     "text": [
      "[(46, 75), (46, 78), (75, 78), (92, 94)]\n"
     ]
    }
   ],
   "source": [
    "print(similar_documents)"
   ]
  }
 ],
 "metadata": {
  "kernelspec": {
   "display_name": "Python 3.10.0 ('.venv': venv)",
   "language": "python",
   "name": "python3"
  },
  "language_info": {
   "codemirror_mode": {
    "name": "ipython",
    "version": 3
   },
   "file_extension": ".py",
   "mimetype": "text/x-python",
   "name": "python",
   "nbconvert_exporter": "python",
   "pygments_lexer": "ipython3",
   "version": "3.10.0"
  },
  "orig_nbformat": 4,
  "vscode": {
   "interpreter": {
    "hash": "216207d909d8e510a134cae7f4f8a5d8481eb99ca4544c264eb60dfcffda7fd3"
   }
  }
 },
 "nbformat": 4,
 "nbformat_minor": 2
}
